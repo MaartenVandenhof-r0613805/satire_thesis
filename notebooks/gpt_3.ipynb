{
 "cells": [
  {
   "cell_type": "code",
   "execution_count": 1,
   "metadata": {},
   "outputs": [
    {
     "name": "stdout",
     "output_type": "stream",
     "text": [
      "Collecting openai\n",
      "  Downloading openai-0.20.0.tar.gz (42 kB)\n",
      "     -------------------------------------- 42.7/42.7 KB 690.4 kB/s eta 0:00:00\n",
      "  Installing build dependencies: started\n",
      "  Installing build dependencies: finished with status 'done'\n",
      "  Getting requirements to build wheel: started\n",
      "  Getting requirements to build wheel: finished with status 'done'\n",
      "  Preparing metadata (pyproject.toml): started\n",
      "  Preparing metadata (pyproject.toml): finished with status 'done'\n",
      "Requirement already satisfied: tqdm in c:\\users\\maart\\appdata\\local\\packages\\pythonsoftwarefoundation.python.3.10_qbz5n2kfra8p0\\localcache\\local-packages\\python310\\site-packages (from openai) (4.64.0)\n",
      "Collecting pandas-stubs>=1.1.0.11\n",
      "  Downloading pandas_stubs-1.4.3.220718-py3-none-any.whl (161 kB)\n",
      "     -------------------------------------- 161.4/161.4 KB 1.4 MB/s eta 0:00:00\n",
      "Requirement already satisfied: pandas>=1.2.3 in c:\\users\\maart\\appdata\\local\\packages\\pythonsoftwarefoundation.python.3.10_qbz5n2kfra8p0\\localcache\\local-packages\\python310\\site-packages (from openai) (1.4.2)\n",
      "Requirement already satisfied: requests>=2.20 in c:\\users\\maart\\appdata\\local\\packages\\pythonsoftwarefoundation.python.3.10_qbz5n2kfra8p0\\localcache\\local-packages\\python310\\site-packages (from openai) (2.28.0)\n",
      "Requirement already satisfied: openpyxl>=3.0.7 in c:\\users\\maart\\appdata\\local\\packages\\pythonsoftwarefoundation.python.3.10_qbz5n2kfra8p0\\localcache\\local-packages\\python310\\site-packages (from openai) (3.0.10)\n",
      "Requirement already satisfied: et-xmlfile in c:\\users\\maart\\appdata\\local\\packages\\pythonsoftwarefoundation.python.3.10_qbz5n2kfra8p0\\localcache\\local-packages\\python310\\site-packages (from openpyxl>=3.0.7->openai) (1.1.0)\n",
      "Requirement already satisfied: numpy>=1.21.0 in c:\\users\\maart\\appdata\\local\\packages\\pythonsoftwarefoundation.python.3.10_qbz5n2kfra8p0\\localcache\\local-packages\\python310\\site-packages (from pandas>=1.2.3->openai) (1.22.4)\n",
      "Requirement already satisfied: pytz>=2020.1 in c:\\users\\maart\\appdata\\local\\packages\\pythonsoftwarefoundation.python.3.10_qbz5n2kfra8p0\\localcache\\local-packages\\python310\\site-packages (from pandas>=1.2.3->openai) (2022.1)\n",
      "Requirement already satisfied: python-dateutil>=2.8.1 in c:\\users\\maart\\appdata\\local\\packages\\pythonsoftwarefoundation.python.3.10_qbz5n2kfra8p0\\localcache\\local-packages\\python310\\site-packages (from pandas>=1.2.3->openai) (2.8.2)\n",
      "Collecting types-pytz>=2022.1.1\n",
      "  Downloading types_pytz-2022.1.2-py3-none-any.whl (4.5 kB)\n",
      "Requirement already satisfied: idna<4,>=2.5 in c:\\users\\maart\\appdata\\local\\packages\\pythonsoftwarefoundation.python.3.10_qbz5n2kfra8p0\\localcache\\local-packages\\python310\\site-packages (from requests>=2.20->openai) (3.3)\n",
      "Requirement already satisfied: urllib3<1.27,>=1.21.1 in c:\\users\\maart\\appdata\\local\\packages\\pythonsoftwarefoundation.python.3.10_qbz5n2kfra8p0\\localcache\\local-packages\\python310\\site-packages (from requests>=2.20->openai) (1.26.9)\n",
      "Requirement already satisfied: charset-normalizer~=2.0.0 in c:\\users\\maart\\appdata\\local\\packages\\pythonsoftwarefoundation.python.3.10_qbz5n2kfra8p0\\localcache\\local-packages\\python310\\site-packages (from requests>=2.20->openai) (2.0.12)\n",
      "Requirement already satisfied: certifi>=2017.4.17 in c:\\users\\maart\\appdata\\local\\packages\\pythonsoftwarefoundation.python.3.10_qbz5n2kfra8p0\\localcache\\local-packages\\python310\\site-packages (from requests>=2.20->openai) (2022.6.15)\n",
      "Requirement already satisfied: colorama in c:\\users\\maart\\appdata\\local\\packages\\pythonsoftwarefoundation.python.3.10_qbz5n2kfra8p0\\localcache\\local-packages\\python310\\site-packages (from tqdm->openai) (0.4.4)\n",
      "Requirement already satisfied: six>=1.5 in c:\\users\\maart\\appdata\\local\\packages\\pythonsoftwarefoundation.python.3.10_qbz5n2kfra8p0\\localcache\\local-packages\\python310\\site-packages (from python-dateutil>=2.8.1->pandas>=1.2.3->openai) (1.16.0)\n",
      "Building wheels for collected packages: openai\n",
      "  Building wheel for openai (pyproject.toml): started\n",
      "  Building wheel for openai (pyproject.toml): finished with status 'done'\n",
      "  Created wheel for openai: filename=openai-0.20.0-py3-none-any.whl size=54094 sha256=50d26131ac6789f7db8082afa39a816287b93799a637b4276b0a4de46b147305\n",
      "  Stored in directory: c:\\users\\maart\\appdata\\local\\pip\\cache\\wheels\\42\\bd\\1d\\f1d7e85562515ca1b9504a9450c89623329c0e24af7c749dc6\n",
      "Successfully built openai\n",
      "Installing collected packages: types-pytz, pandas-stubs, openai\n",
      "Successfully installed openai-0.20.0 pandas-stubs-1.4.3.220718 types-pytz-2022.1.2\n"
     ]
    },
    {
     "name": "stderr",
     "output_type": "stream",
     "text": [
      "  WARNING: The script openai.exe is installed in 'C:\\Users\\maart\\AppData\\Local\\Packages\\PythonSoftwareFoundation.Python.3.10_qbz5n2kfra8p0\\LocalCache\\local-packages\\Python310\\Scripts' which is not on PATH.\n",
      "  Consider adding this directory to PATH or, if you prefer to suppress this warning, use --no-warn-script-location.\n",
      "WARNING: You are using pip version 22.0.4; however, version 22.2 is available.\n",
      "You should consider upgrading via the 'C:\\Users\\maart\\AppData\\Local\\Microsoft\\WindowsApps\\PythonSoftwareFoundation.Python.3.10_qbz5n2kfra8p0\\python.exe -m pip install --upgrade pip' command.\n"
     ]
    }
   ],
   "source": [
    "!pip install openai --user"
   ]
  },
  {
   "cell_type": "code",
   "execution_count": 2,
   "metadata": {},
   "outputs": [],
   "source": [
    "# Imports\n",
    "import pandas as pd\n",
    "import json\n",
    "import openai"
   ]
  },
  {
   "cell_type": "code",
   "execution_count": 5,
   "metadata": {},
   "outputs": [
    {
     "data": {
      "text/html": [
       "<div>\n",
       "<style scoped>\n",
       "    .dataframe tbody tr th:only-of-type {\n",
       "        vertical-align: middle;\n",
       "    }\n",
       "\n",
       "    .dataframe tbody tr th {\n",
       "        vertical-align: top;\n",
       "    }\n",
       "\n",
       "    .dataframe thead th {\n",
       "        text-align: right;\n",
       "    }\n",
       "</style>\n",
       "<table border=\"1\" class=\"dataframe\">\n",
       "  <thead>\n",
       "    <tr style=\"text-align: right;\">\n",
       "      <th></th>\n",
       "      <th>target_text</th>\n",
       "      <th>input_text</th>\n",
       "      <th>length</th>\n",
       "    </tr>\n",
       "  </thead>\n",
       "  <tbody>\n",
       "    <tr>\n",
       "      <th>0</th>\n",
       "      <td>Michel Gondry Entertained For Days By New Card...</td>\n",
       "      <td>Michel Gondry</td>\n",
       "      <td>1</td>\n",
       "    </tr>\n",
       "    <tr>\n",
       "      <th>1</th>\n",
       "      <td>Madeline Albright Sworn In As Secretary</td>\n",
       "      <td>Madeline Albright</td>\n",
       "      <td>1</td>\n",
       "    </tr>\n",
       "    <tr>\n",
       "      <th>2</th>\n",
       "      <td>Death Row Inmate Cant Deny He Curious To See H...</td>\n",
       "      <td>Cant</td>\n",
       "      <td>1</td>\n",
       "    </tr>\n",
       "    <tr>\n",
       "      <th>3</th>\n",
       "      <td>Supporters Aggravated Bernie Sanders Didnt Use...</td>\n",
       "      <td>Bernie Sanders | DNC</td>\n",
       "      <td>2</td>\n",
       "    </tr>\n",
       "    <tr>\n",
       "      <th>4</th>\n",
       "      <td>Actual Proctor Met At Party</td>\n",
       "      <td>Proctor</td>\n",
       "      <td>1</td>\n",
       "    </tr>\n",
       "  </tbody>\n",
       "</table>\n",
       "</div>"
      ],
      "text/plain": [
       "                                         target_text             input_text  \\\n",
       "0  Michel Gondry Entertained For Days By New Card...         Michel Gondry    \n",
       "1            Madeline Albright Sworn In As Secretary     Madeline Albright    \n",
       "2  Death Row Inmate Cant Deny He Curious To See H...                  Cant    \n",
       "3  Supporters Aggravated Bernie Sanders Didnt Use...  Bernie Sanders | DNC    \n",
       "4                        Actual Proctor Met At Party               Proctor    \n",
       "\n",
       "   length  \n",
       "0       1  \n",
       "1       1  \n",
       "2       1  \n",
       "3       2  \n",
       "4       1  "
      ]
     },
     "execution_count": 5,
     "metadata": {},
     "output_type": "execute_result"
    }
   ],
   "source": [
    "generated = pd.read_csv(\"C:/Users/maart/Downloads/the_onion_ner/complete_token_dataset.csv\").drop(\"Unnamed: 0\", axis=1)\n",
    "generated.head()"
   ]
  },
  {
   "cell_type": "code",
   "execution_count": 6,
   "metadata": {},
   "outputs": [
    {
     "name": "stdout",
     "output_type": "stream",
     "text": [
      "<class 'pandas.core.frame.DataFrame'>\n",
      "Int64Index: 6028 entries, 3 to 14668\n",
      "Data columns (total 2 columns):\n",
      " #   Column      Non-Null Count  Dtype \n",
      "---  ------      --------------  ----- \n",
      " 0   completion  6028 non-null   object\n",
      " 1   prompt      6028 non-null   object\n",
      "dtypes: object(2)\n",
      "memory usage: 141.3+ KB\n"
     ]
    }
   ],
   "source": [
    "new_gen = generated[generated.length >1].drop(\"length\", axis=1)\n",
    "new_gen.columns = [\"completion\", \"prompt\"]\n",
    "new_gen.prompt = [inp + \"-->\" for inp in new_gen.prompt]\n",
    "new_gen.info()"
   ]
  },
  {
   "cell_type": "code",
   "execution_count": 7,
   "metadata": {},
   "outputs": [
    {
     "data": {
      "text/html": [
       "<div>\n",
       "<style scoped>\n",
       "    .dataframe tbody tr th:only-of-type {\n",
       "        vertical-align: middle;\n",
       "    }\n",
       "\n",
       "    .dataframe tbody tr th {\n",
       "        vertical-align: top;\n",
       "    }\n",
       "\n",
       "    .dataframe thead th {\n",
       "        text-align: right;\n",
       "    }\n",
       "</style>\n",
       "<table border=\"1\" class=\"dataframe\">\n",
       "  <thead>\n",
       "    <tr style=\"text-align: right;\">\n",
       "      <th></th>\n",
       "      <th>completion</th>\n",
       "      <th>prompt</th>\n",
       "    </tr>\n",
       "  </thead>\n",
       "  <tbody>\n",
       "    <tr>\n",
       "      <th>3</th>\n",
       "      <td>Supporters Aggravated Bernie Sanders Didnt Use...</td>\n",
       "      <td>Bernie Sanders | DNC --&gt;</td>\n",
       "    </tr>\n",
       "    <tr>\n",
       "      <th>5</th>\n",
       "      <td>Gen Tommy Franks Quits Army To Pursue Solo Bom...</td>\n",
       "      <td>Tommy Franks | Army --&gt;</td>\n",
       "    </tr>\n",
       "    <tr>\n",
       "      <th>7</th>\n",
       "      <td>Gore Camp Denies Putting Bush Camps Canoe In T...</td>\n",
       "      <td>Gore Camp | Bush --&gt;</td>\n",
       "    </tr>\n",
       "    <tr>\n",
       "      <th>9</th>\n",
       "      <td>Man At Bar Clinging To Muted King Of Queens Ep...</td>\n",
       "      <td>King Of | Queens --&gt;</td>\n",
       "    </tr>\n",
       "    <tr>\n",
       "      <th>13</th>\n",
       "      <td>Expansive Obama State Of The Union Speech To T...</td>\n",
       "      <td>Obama | Union | Robert Altman --&gt;</td>\n",
       "    </tr>\n",
       "    <tr>\n",
       "      <th>...</th>\n",
       "      <td>...</td>\n",
       "      <td>...</td>\n",
       "    </tr>\n",
       "    <tr>\n",
       "      <th>14657</th>\n",
       "      <td>Lebron to Utah Jazz: Dont Worry Ill Pay All Yo...</td>\n",
       "      <td>Lebron | Utah Jazz --&gt;</td>\n",
       "    </tr>\n",
       "    <tr>\n",
       "      <th>14658</th>\n",
       "      <td>Trump Ramps Up Attacks On John McCain By Dragg...</td>\n",
       "      <td>Trump | John McCain --&gt;</td>\n",
       "    </tr>\n",
       "    <tr>\n",
       "      <th>14660</th>\n",
       "      <td>Man From Chippewa Falls Wisconsin Hates When P...</td>\n",
       "      <td>Chippewa Falls | Wisconsin | Eagle Point | Chi...</td>\n",
       "    </tr>\n",
       "    <tr>\n",
       "      <th>14663</th>\n",
       "      <td>NAACP Issues Travel Warning For Black American...</td>\n",
       "      <td>NAACP | Black Americans --&gt;</td>\n",
       "    </tr>\n",
       "    <tr>\n",
       "      <th>14668</th>\n",
       "      <td>Ruby Tuesday Waiter Warns Jill Stein Her Green...</td>\n",
       "      <td>Ruby | Tuesday | Jill Stein | Green Party | Tr...</td>\n",
       "    </tr>\n",
       "  </tbody>\n",
       "</table>\n",
       "<p>6028 rows × 2 columns</p>\n",
       "</div>"
      ],
      "text/plain": [
       "                                              completion  \\\n",
       "3      Supporters Aggravated Bernie Sanders Didnt Use...   \n",
       "5      Gen Tommy Franks Quits Army To Pursue Solo Bom...   \n",
       "7      Gore Camp Denies Putting Bush Camps Canoe In T...   \n",
       "9      Man At Bar Clinging To Muted King Of Queens Ep...   \n",
       "13     Expansive Obama State Of The Union Speech To T...   \n",
       "...                                                  ...   \n",
       "14657  Lebron to Utah Jazz: Dont Worry Ill Pay All Yo...   \n",
       "14658  Trump Ramps Up Attacks On John McCain By Dragg...   \n",
       "14660  Man From Chippewa Falls Wisconsin Hates When P...   \n",
       "14663  NAACP Issues Travel Warning For Black American...   \n",
       "14668  Ruby Tuesday Waiter Warns Jill Stein Her Green...   \n",
       "\n",
       "                                                  prompt  \n",
       "3                               Bernie Sanders | DNC -->  \n",
       "5                                Tommy Franks | Army -->  \n",
       "7                                   Gore Camp | Bush -->  \n",
       "9                                   King Of | Queens -->  \n",
       "13                     Obama | Union | Robert Altman -->  \n",
       "...                                                  ...  \n",
       "14657                             Lebron | Utah Jazz -->  \n",
       "14658                            Trump | John McCain -->  \n",
       "14660  Chippewa Falls | Wisconsin | Eagle Point | Chi...  \n",
       "14663                        NAACP | Black Americans -->  \n",
       "14668  Ruby | Tuesday | Jill Stein | Green Party | Tr...  \n",
       "\n",
       "[6028 rows x 2 columns]"
      ]
     },
     "execution_count": 7,
     "metadata": {},
     "output_type": "execute_result"
    }
   ],
   "source": [
    "new_gen"
   ]
  },
  {
   "cell_type": "code",
   "execution_count": 24,
   "metadata": {},
   "outputs": [],
   "source": [
    "new_gen.to_json(\"onion_ner.json\", orient='records', lines=True)"
   ]
  },
  {
   "cell_type": "code",
   "execution_count": 8,
   "metadata": {},
   "outputs": [],
   "source": [
    "new_gen.to_excel(\"..\\\\data\\\\onion_ner.xlsx\")"
   ]
  }
 ],
 "metadata": {
  "interpreter": {
   "hash": "81f0f7e7cc12f2c94950a8a01991b2436cc0c748747074750516e2585d64b449"
  },
  "kernelspec": {
   "display_name": "Python 3.10.5 64-bit (windows store)",
   "language": "python",
   "name": "python3"
  },
  "language_info": {
   "codemirror_mode": {
    "name": "ipython",
    "version": 3
   },
   "file_extension": ".py",
   "mimetype": "text/x-python",
   "name": "python",
   "nbconvert_exporter": "python",
   "pygments_lexer": "ipython3",
   "version": "3.10.5"
  },
  "orig_nbformat": 4
 },
 "nbformat": 4,
 "nbformat_minor": 2
}
