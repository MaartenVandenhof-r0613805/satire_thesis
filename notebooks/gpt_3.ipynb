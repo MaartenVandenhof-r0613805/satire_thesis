{
 "cells": [
  {
   "cell_type": "code",
   "execution_count": 1,
   "metadata": {},
   "outputs": [
    {
     "name": "stdout",
     "output_type": "stream",
     "text": [
      "Collecting openai"
     ]
    },
    {
     "name": "stderr",
     "output_type": "stream",
     "text": [
      "  WARNING: The script openai.exe is installed in 'C:\\Users\\maart\\AppData\\Roaming\\Python\\Python39\\Scripts' which is not on PATH.\n",
      "  Consider adding this directory to PATH or, if you prefer to suppress this warning, use --no-warn-script-location.\n"
     ]
    },
    {
     "name": "stdout",
     "output_type": "stream",
     "text": [
      "\n",
      "  Using cached openai-0.19.0-py3-none-any.whl\n",
      "Requirement already satisfied: pandas>=1.2.3 in c:\\programdata\\anaconda3\\lib\\site-packages (from openai) (1.3.4)\n",
      "Collecting pandas-stubs>=1.1.0.11\n",
      "  Using cached pandas_stubs-1.2.0.58-py3-none-any.whl (162 kB)\n",
      "Requirement already satisfied: openpyxl>=3.0.7 in c:\\programdata\\anaconda3\\lib\\site-packages (from openai) (3.0.9)\n",
      "Requirement already satisfied: tqdm in c:\\programdata\\anaconda3\\lib\\site-packages (from openai) (4.62.3)\n",
      "Requirement already satisfied: requests>=2.20 in c:\\programdata\\anaconda3\\lib\\site-packages (from openai) (2.26.0)\n",
      "Requirement already satisfied: et-xmlfile in c:\\programdata\\anaconda3\\lib\\site-packages (from openpyxl>=3.0.7->openai) (1.1.0)\n",
      "Requirement already satisfied: python-dateutil>=2.7.3 in c:\\programdata\\anaconda3\\lib\\site-packages (from pandas>=1.2.3->openai) (2.8.2)\n",
      "Requirement already satisfied: numpy>=1.17.3 in c:\\programdata\\anaconda3\\lib\\site-packages (from pandas>=1.2.3->openai) (1.20.3)\n",
      "Requirement already satisfied: pytz>=2017.3 in c:\\programdata\\anaconda3\\lib\\site-packages (from pandas>=1.2.3->openai) (2021.3)\n",
      "Requirement already satisfied: six>=1.5 in c:\\programdata\\anaconda3\\lib\\site-packages (from python-dateutil>=2.7.3->pandas>=1.2.3->openai) (1.16.0)\n",
      "Requirement already satisfied: charset-normalizer~=2.0.0 in c:\\programdata\\anaconda3\\lib\\site-packages (from requests>=2.20->openai) (2.0.4)\n",
      "Requirement already satisfied: certifi>=2017.4.17 in c:\\programdata\\anaconda3\\lib\\site-packages (from requests>=2.20->openai) (2021.10.8)\n",
      "Requirement already satisfied: idna<4,>=2.5 in c:\\programdata\\anaconda3\\lib\\site-packages (from requests>=2.20->openai) (3.2)\n",
      "Requirement already satisfied: urllib3<1.27,>=1.21.1 in c:\\programdata\\anaconda3\\lib\\site-packages (from requests>=2.20->openai) (1.26.7)\n",
      "Requirement already satisfied: colorama in c:\\programdata\\anaconda3\\lib\\site-packages (from tqdm->openai) (0.4.4)\n",
      "Installing collected packages: pandas-stubs, openai\n",
      "Successfully installed openai-0.19.0 pandas-stubs-1.2.0.58\n"
     ]
    }
   ],
   "source": [
    "!pip install openai --user"
   ]
  },
  {
   "cell_type": "code",
   "execution_count": 2,
   "metadata": {},
   "outputs": [
    {
     "ename": "ModuleNotFoundError",
     "evalue": "No module named 'openai'",
     "output_type": "error",
     "traceback": [
      "\u001b[1;31m---------------------------------------------------------------------------\u001b[0m",
      "\u001b[1;31mModuleNotFoundError\u001b[0m                       Traceback (most recent call last)",
      "\u001b[1;32m~\\AppData\\Local\\Temp/ipykernel_15364/1522617484.py\u001b[0m in \u001b[0;36m<module>\u001b[1;34m\u001b[0m\n\u001b[0;32m      2\u001b[0m \u001b[1;32mimport\u001b[0m \u001b[0mpandas\u001b[0m \u001b[1;32mas\u001b[0m \u001b[0mpd\u001b[0m\u001b[1;33m\u001b[0m\u001b[1;33m\u001b[0m\u001b[0m\n\u001b[0;32m      3\u001b[0m \u001b[1;32mimport\u001b[0m \u001b[0mjson\u001b[0m\u001b[1;33m\u001b[0m\u001b[1;33m\u001b[0m\u001b[0m\n\u001b[1;32m----> 4\u001b[1;33m \u001b[1;32mimport\u001b[0m \u001b[0mopenai\u001b[0m\u001b[1;33m\u001b[0m\u001b[1;33m\u001b[0m\u001b[0m\n\u001b[0m",
      "\u001b[1;31mModuleNotFoundError\u001b[0m: No module named 'openai'"
     ]
    }
   ],
   "source": [
    "# Imports\n",
    "import pandas as pd\n",
    "import json\n",
    "import openai"
   ]
  },
  {
   "cell_type": "code",
   "execution_count": 13,
   "metadata": {},
   "outputs": [
    {
     "data": {
      "text/html": [
       "<div>\n",
       "<style scoped>\n",
       "    .dataframe tbody tr th:only-of-type {\n",
       "        vertical-align: middle;\n",
       "    }\n",
       "\n",
       "    .dataframe tbody tr th {\n",
       "        vertical-align: top;\n",
       "    }\n",
       "\n",
       "    .dataframe thead th {\n",
       "        text-align: right;\n",
       "    }\n",
       "</style>\n",
       "<table border=\"1\" class=\"dataframe\">\n",
       "  <thead>\n",
       "    <tr style=\"text-align: right;\">\n",
       "      <th></th>\n",
       "      <th>target_text</th>\n",
       "      <th>input_text</th>\n",
       "      <th>length</th>\n",
       "    </tr>\n",
       "  </thead>\n",
       "  <tbody>\n",
       "    <tr>\n",
       "      <th>0</th>\n",
       "      <td>Michel Gondry Entertained For Days By New Card...</td>\n",
       "      <td>Michel Gondry</td>\n",
       "      <td>1</td>\n",
       "    </tr>\n",
       "    <tr>\n",
       "      <th>1</th>\n",
       "      <td>Madeline Albright Sworn In As Secretary</td>\n",
       "      <td>Madeline Albright</td>\n",
       "      <td>1</td>\n",
       "    </tr>\n",
       "    <tr>\n",
       "      <th>2</th>\n",
       "      <td>Death Row Inmate Cant Deny He Curious To See H...</td>\n",
       "      <td>Cant</td>\n",
       "      <td>1</td>\n",
       "    </tr>\n",
       "    <tr>\n",
       "      <th>3</th>\n",
       "      <td>Supporters Aggravated Bernie Sanders Didnt Use...</td>\n",
       "      <td>Bernie Sanders | DNC</td>\n",
       "      <td>2</td>\n",
       "    </tr>\n",
       "    <tr>\n",
       "      <th>4</th>\n",
       "      <td>Actual Proctor Met At Party</td>\n",
       "      <td>Proctor</td>\n",
       "      <td>1</td>\n",
       "    </tr>\n",
       "  </tbody>\n",
       "</table>\n",
       "</div>"
      ],
      "text/plain": [
       "                                         target_text             input_text  \\\n",
       "0  Michel Gondry Entertained For Days By New Card...         Michel Gondry    \n",
       "1            Madeline Albright Sworn In As Secretary     Madeline Albright    \n",
       "2  Death Row Inmate Cant Deny He Curious To See H...                  Cant    \n",
       "3  Supporters Aggravated Bernie Sanders Didnt Use...  Bernie Sanders | DNC    \n",
       "4                        Actual Proctor Met At Party               Proctor    \n",
       "\n",
       "   length  \n",
       "0       1  \n",
       "1       1  \n",
       "2       1  \n",
       "3       2  \n",
       "4       1  "
      ]
     },
     "execution_count": 13,
     "metadata": {},
     "output_type": "execute_result"
    }
   ],
   "source": [
    "generated = pd.read_csv(\"C:/Users/maart/Downloads/the_onion_ner/complete_token_dataset.csv\").drop(\"Unnamed: 0\", axis=1)\n",
    "generated.head()"
   ]
  },
  {
   "cell_type": "code",
   "execution_count": 21,
   "metadata": {},
   "outputs": [
    {
     "name": "stdout",
     "output_type": "stream",
     "text": [
      "<class 'pandas.core.frame.DataFrame'>\n",
      "Int64Index: 6028 entries, 3 to 14668\n",
      "Data columns (total 2 columns):\n",
      " #   Column      Non-Null Count  Dtype \n",
      "---  ------      --------------  ----- \n",
      " 0   completion  6028 non-null   object\n",
      " 1   prompt      6028 non-null   object\n",
      "dtypes: object(2)\n",
      "memory usage: 141.3+ KB\n"
     ]
    }
   ],
   "source": [
    "new_gen = generated[generated.length >1].drop(\"length\", axis=1)\n",
    "new_gen.columns = [\"completion\", \"prompt\"]\n",
    "new_gen.prompt = [inp + \"-->\" for inp in new_gen.prompt]\n",
    "new_gen.info()"
   ]
  },
  {
   "cell_type": "code",
   "execution_count": 22,
   "metadata": {},
   "outputs": [
    {
     "data": {
      "text/html": [
       "<div>\n",
       "<style scoped>\n",
       "    .dataframe tbody tr th:only-of-type {\n",
       "        vertical-align: middle;\n",
       "    }\n",
       "\n",
       "    .dataframe tbody tr th {\n",
       "        vertical-align: top;\n",
       "    }\n",
       "\n",
       "    .dataframe thead th {\n",
       "        text-align: right;\n",
       "    }\n",
       "</style>\n",
       "<table border=\"1\" class=\"dataframe\">\n",
       "  <thead>\n",
       "    <tr style=\"text-align: right;\">\n",
       "      <th></th>\n",
       "      <th>completion</th>\n",
       "      <th>prompt</th>\n",
       "    </tr>\n",
       "  </thead>\n",
       "  <tbody>\n",
       "    <tr>\n",
       "      <th>3</th>\n",
       "      <td>Supporters Aggravated Bernie Sanders Didnt Use...</td>\n",
       "      <td>Bernie Sanders | DNC --&gt;</td>\n",
       "    </tr>\n",
       "    <tr>\n",
       "      <th>5</th>\n",
       "      <td>Gen Tommy Franks Quits Army To Pursue Solo Bom...</td>\n",
       "      <td>Tommy Franks | Army --&gt;</td>\n",
       "    </tr>\n",
       "    <tr>\n",
       "      <th>7</th>\n",
       "      <td>Gore Camp Denies Putting Bush Camps Canoe In T...</td>\n",
       "      <td>Gore Camp | Bush --&gt;</td>\n",
       "    </tr>\n",
       "    <tr>\n",
       "      <th>9</th>\n",
       "      <td>Man At Bar Clinging To Muted King Of Queens Ep...</td>\n",
       "      <td>King Of | Queens --&gt;</td>\n",
       "    </tr>\n",
       "    <tr>\n",
       "      <th>13</th>\n",
       "      <td>Expansive Obama State Of The Union Speech To T...</td>\n",
       "      <td>Obama | Union | Robert Altman --&gt;</td>\n",
       "    </tr>\n",
       "    <tr>\n",
       "      <th>...</th>\n",
       "      <td>...</td>\n",
       "      <td>...</td>\n",
       "    </tr>\n",
       "    <tr>\n",
       "      <th>14657</th>\n",
       "      <td>Lebron to Utah Jazz: Dont Worry Ill Pay All Yo...</td>\n",
       "      <td>Lebron | Utah Jazz --&gt;</td>\n",
       "    </tr>\n",
       "    <tr>\n",
       "      <th>14658</th>\n",
       "      <td>Trump Ramps Up Attacks On John McCain By Dragg...</td>\n",
       "      <td>Trump | John McCain --&gt;</td>\n",
       "    </tr>\n",
       "    <tr>\n",
       "      <th>14660</th>\n",
       "      <td>Man From Chippewa Falls Wisconsin Hates When P...</td>\n",
       "      <td>Chippewa Falls | Wisconsin | Eagle Point | Chi...</td>\n",
       "    </tr>\n",
       "    <tr>\n",
       "      <th>14663</th>\n",
       "      <td>NAACP Issues Travel Warning For Black American...</td>\n",
       "      <td>NAACP | Black Americans --&gt;</td>\n",
       "    </tr>\n",
       "    <tr>\n",
       "      <th>14668</th>\n",
       "      <td>Ruby Tuesday Waiter Warns Jill Stein Her Green...</td>\n",
       "      <td>Ruby | Tuesday | Jill Stein | Green Party | Tr...</td>\n",
       "    </tr>\n",
       "  </tbody>\n",
       "</table>\n",
       "<p>6028 rows × 2 columns</p>\n",
       "</div>"
      ],
      "text/plain": [
       "                                              completion  \\\n",
       "3      Supporters Aggravated Bernie Sanders Didnt Use...   \n",
       "5      Gen Tommy Franks Quits Army To Pursue Solo Bom...   \n",
       "7      Gore Camp Denies Putting Bush Camps Canoe In T...   \n",
       "9      Man At Bar Clinging To Muted King Of Queens Ep...   \n",
       "13     Expansive Obama State Of The Union Speech To T...   \n",
       "...                                                  ...   \n",
       "14657  Lebron to Utah Jazz: Dont Worry Ill Pay All Yo...   \n",
       "14658  Trump Ramps Up Attacks On John McCain By Dragg...   \n",
       "14660  Man From Chippewa Falls Wisconsin Hates When P...   \n",
       "14663  NAACP Issues Travel Warning For Black American...   \n",
       "14668  Ruby Tuesday Waiter Warns Jill Stein Her Green...   \n",
       "\n",
       "                                                  prompt  \n",
       "3                               Bernie Sanders | DNC -->  \n",
       "5                                Tommy Franks | Army -->  \n",
       "7                                   Gore Camp | Bush -->  \n",
       "9                                   King Of | Queens -->  \n",
       "13                     Obama | Union | Robert Altman -->  \n",
       "...                                                  ...  \n",
       "14657                             Lebron | Utah Jazz -->  \n",
       "14658                            Trump | John McCain -->  \n",
       "14660  Chippewa Falls | Wisconsin | Eagle Point | Chi...  \n",
       "14663                        NAACP | Black Americans -->  \n",
       "14668  Ruby | Tuesday | Jill Stein | Green Party | Tr...  \n",
       "\n",
       "[6028 rows x 2 columns]"
      ]
     },
     "execution_count": 22,
     "metadata": {},
     "output_type": "execute_result"
    }
   ],
   "source": [
    "new_gen"
   ]
  },
  {
   "cell_type": "code",
   "execution_count": 24,
   "metadata": {},
   "outputs": [],
   "source": [
    "new_gen.to_json(\"onion_ner.json\", orient='records', lines=True)"
   ]
  }
 ],
 "metadata": {
  "interpreter": {
   "hash": "ad2bdc8ecc057115af97d19610ffacc2b4e99fae6737bb82f5d7fb13d2f2c186"
  },
  "kernelspec": {
   "display_name": "Python 3.9.7 ('base')",
   "language": "python",
   "name": "python3"
  },
  "language_info": {
   "codemirror_mode": {
    "name": "ipython",
    "version": 3
   },
   "file_extension": ".py",
   "mimetype": "text/x-python",
   "name": "python",
   "nbconvert_exporter": "python",
   "pygments_lexer": "ipython3",
   "version": "3.9.7"
  },
  "orig_nbformat": 4
 },
 "nbformat": 4,
 "nbformat_minor": 2
}
